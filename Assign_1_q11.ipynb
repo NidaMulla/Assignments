{
  "nbformat": 4,
  "nbformat_minor": 0,
  "metadata": {
    "colab": {
      "provenance": []
    },
    "kernelspec": {
      "name": "python3",
      "display_name": "Python 3"
    },
    "language_info": {
      "name": "python"
    }
  },
  "cells": [
    {
      "cell_type": "code",
      "execution_count": 1,
      "metadata": {
        "id": "0aHdCRrU7cb6"
      },
      "outputs": [],
      "source": [
        "import numpy as np\n",
        "import pandas as pd\n",
        "from scipy import stats\n",
        "from scipy.stats import norm"
      ]
    },
    {
      "cell_type": "code",
      "source": [
        "stats.norm.interval(0.94,200,30/(2000**0.5))"
      ],
      "metadata": {
        "colab": {
          "base_uri": "https://localhost:8080/"
        },
        "id": "4fRJ_o3z7n2T",
        "outputId": "47b07d82-fcc2-458b-ace8-fc27ddd3c026"
      },
      "execution_count": 2,
      "outputs": [
        {
          "output_type": "execute_result",
          "data": {
            "text/plain": [
              "(198.738325292158, 201.261674707842)"
            ]
          },
          "metadata": {},
          "execution_count": 2
        }
      ]
    },
    {
      "cell_type": "code",
      "source": [
        "stats.norm.interval(0.96,200,30/(2000**0.5))"
      ],
      "metadata": {
        "colab": {
          "base_uri": "https://localhost:8080/"
        },
        "id": "dniyHQDj7nyQ",
        "outputId": "fbf0b965-d01d-4154-9820-cb2b44dc08c1"
      },
      "execution_count": 3,
      "outputs": [
        {
          "output_type": "execute_result",
          "data": {
            "text/plain": [
              "(198.62230334813333, 201.37769665186667)"
            ]
          },
          "metadata": {},
          "execution_count": 3
        }
      ]
    },
    {
      "cell_type": "code",
      "source": [
        "stats.norm.interval(0.98,200,30/(2000**0.5))"
      ],
      "metadata": {
        "colab": {
          "base_uri": "https://localhost:8080/"
        },
        "id": "X0lcelkr7nrK",
        "outputId": "d2185053-3ea1-4857-d6db-7b3bd5e07248"
      },
      "execution_count": 4,
      "outputs": [
        {
          "output_type": "execute_result",
          "data": {
            "text/plain": [
              "(198.43943840429978, 201.56056159570022)"
            ]
          },
          "metadata": {},
          "execution_count": 4
        }
      ]
    }
  ]
}