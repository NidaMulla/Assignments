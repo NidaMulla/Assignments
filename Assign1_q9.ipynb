{
  "nbformat": 4,
  "nbformat_minor": 0,
  "metadata": {
    "colab": {
      "provenance": []
    },
    "kernelspec": {
      "name": "python3",
      "display_name": "Python 3"
    },
    "language_info": {
      "name": "python"
    }
  },
  "cells": [
    {
      "cell_type": "code",
      "execution_count": 1,
      "metadata": {
        "id": "SVyyl8LHTzD3"
      },
      "outputs": [],
      "source": [
        "import pandas as pd\n",
        "import numpy as np\n",
        "import matplotlib.pyplot as plt\n",
        "import seaborn as sns\n",
        "%matplotlib inline\n",
        "\n",
        "import warnings\n",
        "warnings.filterwarnings('ignore')"
      ]
    },
    {
      "cell_type": "code",
      "source": [
        "df=pd.read_csv(r'/content/Q9_a.csv')"
      ],
      "metadata": {
        "id": "dpk6G06CUFmZ"
      },
      "execution_count": 2,
      "outputs": []
    },
    {
      "cell_type": "code",
      "source": [
        "df.head"
      ],
      "metadata": {
        "colab": {
          "base_uri": "https://localhost:8080/"
        },
        "id": "QUH9tZacUFi3",
        "outputId": "4c234f19-aba6-4a77-e4c0-b7b24901b868"
      },
      "execution_count": 3,
      "outputs": [
        {
          "output_type": "execute_result",
          "data": {
            "text/plain": [
              "<bound method NDFrame.head of     Index  speed  dist\n",
              "0       1      4     2\n",
              "1       2      4    10\n",
              "2       3      7     4\n",
              "3       4      7    22\n",
              "4       5      8    16\n",
              "5       6      9    10\n",
              "6       7     10    18\n",
              "7       8     10    26\n",
              "8       9     10    34\n",
              "9      10     11    17\n",
              "10     11     11    28\n",
              "11     12     12    14\n",
              "12     13     12    20\n",
              "13     14     12    24\n",
              "14     15     12    28\n",
              "15     16     13    26\n",
              "16     17     13    34\n",
              "17     18     13    34\n",
              "18     19     13    46\n",
              "19     20     14    26\n",
              "20     21     14    36\n",
              "21     22     14    60\n",
              "22     23     14    80\n",
              "23     24     15    20\n",
              "24     25     15    26\n",
              "25     26     15    54\n",
              "26     27     16    32\n",
              "27     28     16    40\n",
              "28     29     17    32\n",
              "29     30     17    40\n",
              "30     31     17    50\n",
              "31     32     18    42\n",
              "32     33     18    56\n",
              "33     34     18    76\n",
              "34     35     18    84\n",
              "35     36     19    36\n",
              "36     37     19    46\n",
              "37     38     19    68\n",
              "38     39     20    32\n",
              "39     40     20    48\n",
              "40     41     20    52\n",
              "41     42     20    56\n",
              "42     43     20    64\n",
              "43     44     22    66\n",
              "44     45     23    54\n",
              "45     46     24    70\n",
              "46     47     24    92\n",
              "47     48     24    93\n",
              "48     49     24   120\n",
              "49     50     25    85>"
            ]
          },
          "metadata": {},
          "execution_count": 3
        }
      ]
    },
    {
      "cell_type": "code",
      "source": [
        "df.drop(columns='Index', inplace=True)"
      ],
      "metadata": {
        "id": "YZiuvFeCUFcs"
      },
      "execution_count": 4,
      "outputs": []
    },
    {
      "cell_type": "code",
      "source": [
        "df.head()"
      ],
      "metadata": {
        "colab": {
          "base_uri": "https://localhost:8080/",
          "height": 206
        },
        "id": "wB4uNux9UFaP",
        "outputId": "dc20fb72-7c0d-4741-cc3a-20ac1c300534"
      },
      "execution_count": 5,
      "outputs": [
        {
          "output_type": "execute_result",
          "data": {
            "text/plain": [
              "   speed  dist\n",
              "0      4     2\n",
              "1      4    10\n",
              "2      7     4\n",
              "3      7    22\n",
              "4      8    16"
            ],
            "text/html": [
              "\n",
              "  <div id=\"df-9603cc83-620f-413a-b4b2-a1dcd9b88898\">\n",
              "    <div class=\"colab-df-container\">\n",
              "      <div>\n",
              "<style scoped>\n",
              "    .dataframe tbody tr th:only-of-type {\n",
              "        vertical-align: middle;\n",
              "    }\n",
              "\n",
              "    .dataframe tbody tr th {\n",
              "        vertical-align: top;\n",
              "    }\n",
              "\n",
              "    .dataframe thead th {\n",
              "        text-align: right;\n",
              "    }\n",
              "</style>\n",
              "<table border=\"1\" class=\"dataframe\">\n",
              "  <thead>\n",
              "    <tr style=\"text-align: right;\">\n",
              "      <th></th>\n",
              "      <th>speed</th>\n",
              "      <th>dist</th>\n",
              "    </tr>\n",
              "  </thead>\n",
              "  <tbody>\n",
              "    <tr>\n",
              "      <th>0</th>\n",
              "      <td>4</td>\n",
              "      <td>2</td>\n",
              "    </tr>\n",
              "    <tr>\n",
              "      <th>1</th>\n",
              "      <td>4</td>\n",
              "      <td>10</td>\n",
              "    </tr>\n",
              "    <tr>\n",
              "      <th>2</th>\n",
              "      <td>7</td>\n",
              "      <td>4</td>\n",
              "    </tr>\n",
              "    <tr>\n",
              "      <th>3</th>\n",
              "      <td>7</td>\n",
              "      <td>22</td>\n",
              "    </tr>\n",
              "    <tr>\n",
              "      <th>4</th>\n",
              "      <td>8</td>\n",
              "      <td>16</td>\n",
              "    </tr>\n",
              "  </tbody>\n",
              "</table>\n",
              "</div>\n",
              "      <button class=\"colab-df-convert\" onclick=\"convertToInteractive('df-9603cc83-620f-413a-b4b2-a1dcd9b88898')\"\n",
              "              title=\"Convert this dataframe to an interactive table.\"\n",
              "              style=\"display:none;\">\n",
              "        \n",
              "  <svg xmlns=\"http://www.w3.org/2000/svg\" height=\"24px\"viewBox=\"0 0 24 24\"\n",
              "       width=\"24px\">\n",
              "    <path d=\"M0 0h24v24H0V0z\" fill=\"none\"/>\n",
              "    <path d=\"M18.56 5.44l.94 2.06.94-2.06 2.06-.94-2.06-.94-.94-2.06-.94 2.06-2.06.94zm-11 1L8.5 8.5l.94-2.06 2.06-.94-2.06-.94L8.5 2.5l-.94 2.06-2.06.94zm10 10l.94 2.06.94-2.06 2.06-.94-2.06-.94-.94-2.06-.94 2.06-2.06.94z\"/><path d=\"M17.41 7.96l-1.37-1.37c-.4-.4-.92-.59-1.43-.59-.52 0-1.04.2-1.43.59L10.3 9.45l-7.72 7.72c-.78.78-.78 2.05 0 2.83L4 21.41c.39.39.9.59 1.41.59.51 0 1.02-.2 1.41-.59l7.78-7.78 2.81-2.81c.8-.78.8-2.07 0-2.86zM5.41 20L4 18.59l7.72-7.72 1.47 1.35L5.41 20z\"/>\n",
              "  </svg>\n",
              "      </button>\n",
              "      \n",
              "  <style>\n",
              "    .colab-df-container {\n",
              "      display:flex;\n",
              "      flex-wrap:wrap;\n",
              "      gap: 12px;\n",
              "    }\n",
              "\n",
              "    .colab-df-convert {\n",
              "      background-color: #E8F0FE;\n",
              "      border: none;\n",
              "      border-radius: 50%;\n",
              "      cursor: pointer;\n",
              "      display: none;\n",
              "      fill: #1967D2;\n",
              "      height: 32px;\n",
              "      padding: 0 0 0 0;\n",
              "      width: 32px;\n",
              "    }\n",
              "\n",
              "    .colab-df-convert:hover {\n",
              "      background-color: #E2EBFA;\n",
              "      box-shadow: 0px 1px 2px rgba(60, 64, 67, 0.3), 0px 1px 3px 1px rgba(60, 64, 67, 0.15);\n",
              "      fill: #174EA6;\n",
              "    }\n",
              "\n",
              "    [theme=dark] .colab-df-convert {\n",
              "      background-color: #3B4455;\n",
              "      fill: #D2E3FC;\n",
              "    }\n",
              "\n",
              "    [theme=dark] .colab-df-convert:hover {\n",
              "      background-color: #434B5C;\n",
              "      box-shadow: 0px 1px 3px 1px rgba(0, 0, 0, 0.15);\n",
              "      filter: drop-shadow(0px 1px 2px rgba(0, 0, 0, 0.3));\n",
              "      fill: #FFFFFF;\n",
              "    }\n",
              "  </style>\n",
              "\n",
              "      <script>\n",
              "        const buttonEl =\n",
              "          document.querySelector('#df-9603cc83-620f-413a-b4b2-a1dcd9b88898 button.colab-df-convert');\n",
              "        buttonEl.style.display =\n",
              "          google.colab.kernel.accessAllowed ? 'block' : 'none';\n",
              "\n",
              "        async function convertToInteractive(key) {\n",
              "          const element = document.querySelector('#df-9603cc83-620f-413a-b4b2-a1dcd9b88898');\n",
              "          const dataTable =\n",
              "            await google.colab.kernel.invokeFunction('convertToInteractive',\n",
              "                                                     [key], {});\n",
              "          if (!dataTable) return;\n",
              "\n",
              "          const docLinkHtml = 'Like what you see? Visit the ' +\n",
              "            '<a target=\"_blank\" href=https://colab.research.google.com/notebooks/data_table.ipynb>data table notebook</a>'\n",
              "            + ' to learn more about interactive tables.';\n",
              "          element.innerHTML = '';\n",
              "          dataTable['output_type'] = 'display_data';\n",
              "          await google.colab.output.renderOutput(dataTable, element);\n",
              "          const docLink = document.createElement('div');\n",
              "          docLink.innerHTML = docLinkHtml;\n",
              "          element.appendChild(docLink);\n",
              "        }\n",
              "      </script>\n",
              "    </div>\n",
              "  </div>\n",
              "  "
            ]
          },
          "metadata": {},
          "execution_count": 5
        }
      ]
    },
    {
      "cell_type": "code",
      "source": [
        "import scipy"
      ],
      "metadata": {
        "id": "70Oe85oAVJMO"
      },
      "execution_count": 8,
      "outputs": []
    },
    {
      "cell_type": "code",
      "source": [
        "Array=df.to_numpy()\n",
        "print(Array)"
      ],
      "metadata": {
        "colab": {
          "base_uri": "https://localhost:8080/"
        },
        "id": "SZM__C51VX3R",
        "outputId": "5b242126-632a-43b3-886e-fec55ab1e5f3"
      },
      "execution_count": 12,
      "outputs": [
        {
          "output_type": "stream",
          "name": "stdout",
          "text": [
            "[[  4   2]\n",
            " [  4  10]\n",
            " [  7   4]\n",
            " [  7  22]\n",
            " [  8  16]\n",
            " [  9  10]\n",
            " [ 10  18]\n",
            " [ 10  26]\n",
            " [ 10  34]\n",
            " [ 11  17]\n",
            " [ 11  28]\n",
            " [ 12  14]\n",
            " [ 12  20]\n",
            " [ 12  24]\n",
            " [ 12  28]\n",
            " [ 13  26]\n",
            " [ 13  34]\n",
            " [ 13  34]\n",
            " [ 13  46]\n",
            " [ 14  26]\n",
            " [ 14  36]\n",
            " [ 14  60]\n",
            " [ 14  80]\n",
            " [ 15  20]\n",
            " [ 15  26]\n",
            " [ 15  54]\n",
            " [ 16  32]\n",
            " [ 16  40]\n",
            " [ 17  32]\n",
            " [ 17  40]\n",
            " [ 17  50]\n",
            " [ 18  42]\n",
            " [ 18  56]\n",
            " [ 18  76]\n",
            " [ 18  84]\n",
            " [ 19  36]\n",
            " [ 19  46]\n",
            " [ 19  68]\n",
            " [ 20  32]\n",
            " [ 20  48]\n",
            " [ 20  52]\n",
            " [ 20  56]\n",
            " [ 20  64]\n",
            " [ 22  66]\n",
            " [ 23  54]\n",
            " [ 24  70]\n",
            " [ 24  92]\n",
            " [ 24  93]\n",
            " [ 24 120]\n",
            " [ 25  85]]\n"
          ]
        }
      ]
    },
    {
      "cell_type": "code",
      "source": [
        "sp_arr=df.iloc[:,0]\n",
        "sp_arr\n"
      ],
      "metadata": {
        "colab": {
          "base_uri": "https://localhost:8080/"
        },
        "id": "nlZLmP_2Yuc3",
        "outputId": "5cea9f47-2450-4b17-f96a-fd02dcfad458"
      },
      "execution_count": 15,
      "outputs": [
        {
          "output_type": "execute_result",
          "data": {
            "text/plain": [
              "0      4\n",
              "1      4\n",
              "2      7\n",
              "3      7\n",
              "4      8\n",
              "5      9\n",
              "6     10\n",
              "7     10\n",
              "8     10\n",
              "9     11\n",
              "10    11\n",
              "11    12\n",
              "12    12\n",
              "13    12\n",
              "14    12\n",
              "15    13\n",
              "16    13\n",
              "17    13\n",
              "18    13\n",
              "19    14\n",
              "20    14\n",
              "21    14\n",
              "22    14\n",
              "23    15\n",
              "24    15\n",
              "25    15\n",
              "26    16\n",
              "27    16\n",
              "28    17\n",
              "29    17\n",
              "30    17\n",
              "31    18\n",
              "32    18\n",
              "33    18\n",
              "34    18\n",
              "35    19\n",
              "36    19\n",
              "37    19\n",
              "38    20\n",
              "39    20\n",
              "40    20\n",
              "41    20\n",
              "42    20\n",
              "43    22\n",
              "44    23\n",
              "45    24\n",
              "46    24\n",
              "47    24\n",
              "48    24\n",
              "49    25\n",
              "Name: speed, dtype: int64"
            ]
          },
          "metadata": {},
          "execution_count": 15
        }
      ]
    },
    {
      "cell_type": "code",
      "source": [
        "scipy.stats.skew(sp_arr, axis=0, bias=True)"
      ],
      "metadata": {
        "colab": {
          "base_uri": "https://localhost:8080/"
        },
        "id": "9QuvzdUoUFVu",
        "outputId": "628dc734-3da4-4beb-cb1d-f1bc2bf12004"
      },
      "execution_count": 17,
      "outputs": [
        {
          "output_type": "execute_result",
          "data": {
            "text/plain": [
              "-0.11395477012828319"
            ]
          },
          "metadata": {},
          "execution_count": 17
        }
      ]
    },
    {
      "cell_type": "code",
      "source": [
        "dist_arr=df.iloc[:,1]\n",
        "dist_arr"
      ],
      "metadata": {
        "colab": {
          "base_uri": "https://localhost:8080/"
        },
        "id": "9lfZSb9aUFQy",
        "outputId": "9c1f6cd7-7ce8-43d7-8896-5e8365c61ffe"
      },
      "execution_count": 18,
      "outputs": [
        {
          "output_type": "execute_result",
          "data": {
            "text/plain": [
              "0       2\n",
              "1      10\n",
              "2       4\n",
              "3      22\n",
              "4      16\n",
              "5      10\n",
              "6      18\n",
              "7      26\n",
              "8      34\n",
              "9      17\n",
              "10     28\n",
              "11     14\n",
              "12     20\n",
              "13     24\n",
              "14     28\n",
              "15     26\n",
              "16     34\n",
              "17     34\n",
              "18     46\n",
              "19     26\n",
              "20     36\n",
              "21     60\n",
              "22     80\n",
              "23     20\n",
              "24     26\n",
              "25     54\n",
              "26     32\n",
              "27     40\n",
              "28     32\n",
              "29     40\n",
              "30     50\n",
              "31     42\n",
              "32     56\n",
              "33     76\n",
              "34     84\n",
              "35     36\n",
              "36     46\n",
              "37     68\n",
              "38     32\n",
              "39     48\n",
              "40     52\n",
              "41     56\n",
              "42     64\n",
              "43     66\n",
              "44     54\n",
              "45     70\n",
              "46     92\n",
              "47     93\n",
              "48    120\n",
              "49     85\n",
              "Name: dist, dtype: int64"
            ]
          },
          "metadata": {},
          "execution_count": 18
        }
      ]
    },
    {
      "cell_type": "code",
      "source": [
        "scipy.stats.skew(dist_arr, axis=0, bias=True)"
      ],
      "metadata": {
        "colab": {
          "base_uri": "https://localhost:8080/"
        },
        "id": "G-frB4nYZ--Y",
        "outputId": "d1c3dfe4-aba1-4401-93cd-e31ec739b40b"
      },
      "execution_count": 19,
      "outputs": [
        {
          "output_type": "execute_result",
          "data": {
            "text/plain": [
              "0.7824835173114966"
            ]
          },
          "metadata": {},
          "execution_count": 19
        }
      ]
    },
    {
      "cell_type": "code",
      "source": [
        "scipy.stats.kurtosis(sp_arr, axis=0, fisher=True, bias=True)"
      ],
      "metadata": {
        "colab": {
          "base_uri": "https://localhost:8080/"
        },
        "id": "Ec-DSIxWZ-29",
        "outputId": "516135db-afdf-4d92-a72d-8cabe1fbd88c"
      },
      "execution_count": 20,
      "outputs": [
        {
          "output_type": "execute_result",
          "data": {
            "text/plain": [
              "-0.5771474239437371"
            ]
          },
          "metadata": {},
          "execution_count": 20
        }
      ]
    },
    {
      "cell_type": "code",
      "source": [
        "scipy.stats.kurtosis(dist_arr, axis=0, fisher=True, bias=True)"
      ],
      "metadata": {
        "colab": {
          "base_uri": "https://localhost:8080/"
        },
        "id": "bwCSrYODZ-xt",
        "outputId": "8bcc61c9-fa73-4d5c-d375-0b3433907de3"
      },
      "execution_count": 21,
      "outputs": [
        {
          "output_type": "execute_result",
          "data": {
            "text/plain": [
              "0.24801865717051808"
            ]
          },
          "metadata": {},
          "execution_count": 21
        }
      ]
    },
    {
      "cell_type": "code",
      "source": [
        "df1=pd.read_csv(r'/content/Q9_b.csv')"
      ],
      "metadata": {
        "id": "6a4hrvb3Z-Vl"
      },
      "execution_count": 22,
      "outputs": []
    },
    {
      "cell_type": "code",
      "source": [
        "df1.head()"
      ],
      "metadata": {
        "colab": {
          "base_uri": "https://localhost:8080/",
          "height": 206
        },
        "id": "hVOPOwmzZ-SP",
        "outputId": "1936ace2-f98f-4205-d2d7-d177bc6f227d"
      },
      "execution_count": 24,
      "outputs": [
        {
          "output_type": "execute_result",
          "data": {
            "text/plain": [
              "   Unnamed: 0          SP         WT\n",
              "0           1  104.185353  28.762059\n",
              "1           2  105.461264  30.466833\n",
              "2           3  105.461264  30.193597\n",
              "3           4  113.461264  30.632114\n",
              "4           5  104.461264  29.889149"
            ],
            "text/html": [
              "\n",
              "  <div id=\"df-264e0fd6-5caf-42a7-b885-ea9370aa8851\">\n",
              "    <div class=\"colab-df-container\">\n",
              "      <div>\n",
              "<style scoped>\n",
              "    .dataframe tbody tr th:only-of-type {\n",
              "        vertical-align: middle;\n",
              "    }\n",
              "\n",
              "    .dataframe tbody tr th {\n",
              "        vertical-align: top;\n",
              "    }\n",
              "\n",
              "    .dataframe thead th {\n",
              "        text-align: right;\n",
              "    }\n",
              "</style>\n",
              "<table border=\"1\" class=\"dataframe\">\n",
              "  <thead>\n",
              "    <tr style=\"text-align: right;\">\n",
              "      <th></th>\n",
              "      <th>Unnamed: 0</th>\n",
              "      <th>SP</th>\n",
              "      <th>WT</th>\n",
              "    </tr>\n",
              "  </thead>\n",
              "  <tbody>\n",
              "    <tr>\n",
              "      <th>0</th>\n",
              "      <td>1</td>\n",
              "      <td>104.185353</td>\n",
              "      <td>28.762059</td>\n",
              "    </tr>\n",
              "    <tr>\n",
              "      <th>1</th>\n",
              "      <td>2</td>\n",
              "      <td>105.461264</td>\n",
              "      <td>30.466833</td>\n",
              "    </tr>\n",
              "    <tr>\n",
              "      <th>2</th>\n",
              "      <td>3</td>\n",
              "      <td>105.461264</td>\n",
              "      <td>30.193597</td>\n",
              "    </tr>\n",
              "    <tr>\n",
              "      <th>3</th>\n",
              "      <td>4</td>\n",
              "      <td>113.461264</td>\n",
              "      <td>30.632114</td>\n",
              "    </tr>\n",
              "    <tr>\n",
              "      <th>4</th>\n",
              "      <td>5</td>\n",
              "      <td>104.461264</td>\n",
              "      <td>29.889149</td>\n",
              "    </tr>\n",
              "  </tbody>\n",
              "</table>\n",
              "</div>\n",
              "      <button class=\"colab-df-convert\" onclick=\"convertToInteractive('df-264e0fd6-5caf-42a7-b885-ea9370aa8851')\"\n",
              "              title=\"Convert this dataframe to an interactive table.\"\n",
              "              style=\"display:none;\">\n",
              "        \n",
              "  <svg xmlns=\"http://www.w3.org/2000/svg\" height=\"24px\"viewBox=\"0 0 24 24\"\n",
              "       width=\"24px\">\n",
              "    <path d=\"M0 0h24v24H0V0z\" fill=\"none\"/>\n",
              "    <path d=\"M18.56 5.44l.94 2.06.94-2.06 2.06-.94-2.06-.94-.94-2.06-.94 2.06-2.06.94zm-11 1L8.5 8.5l.94-2.06 2.06-.94-2.06-.94L8.5 2.5l-.94 2.06-2.06.94zm10 10l.94 2.06.94-2.06 2.06-.94-2.06-.94-.94-2.06-.94 2.06-2.06.94z\"/><path d=\"M17.41 7.96l-1.37-1.37c-.4-.4-.92-.59-1.43-.59-.52 0-1.04.2-1.43.59L10.3 9.45l-7.72 7.72c-.78.78-.78 2.05 0 2.83L4 21.41c.39.39.9.59 1.41.59.51 0 1.02-.2 1.41-.59l7.78-7.78 2.81-2.81c.8-.78.8-2.07 0-2.86zM5.41 20L4 18.59l7.72-7.72 1.47 1.35L5.41 20z\"/>\n",
              "  </svg>\n",
              "      </button>\n",
              "      \n",
              "  <style>\n",
              "    .colab-df-container {\n",
              "      display:flex;\n",
              "      flex-wrap:wrap;\n",
              "      gap: 12px;\n",
              "    }\n",
              "\n",
              "    .colab-df-convert {\n",
              "      background-color: #E8F0FE;\n",
              "      border: none;\n",
              "      border-radius: 50%;\n",
              "      cursor: pointer;\n",
              "      display: none;\n",
              "      fill: #1967D2;\n",
              "      height: 32px;\n",
              "      padding: 0 0 0 0;\n",
              "      width: 32px;\n",
              "    }\n",
              "\n",
              "    .colab-df-convert:hover {\n",
              "      background-color: #E2EBFA;\n",
              "      box-shadow: 0px 1px 2px rgba(60, 64, 67, 0.3), 0px 1px 3px 1px rgba(60, 64, 67, 0.15);\n",
              "      fill: #174EA6;\n",
              "    }\n",
              "\n",
              "    [theme=dark] .colab-df-convert {\n",
              "      background-color: #3B4455;\n",
              "      fill: #D2E3FC;\n",
              "    }\n",
              "\n",
              "    [theme=dark] .colab-df-convert:hover {\n",
              "      background-color: #434B5C;\n",
              "      box-shadow: 0px 1px 3px 1px rgba(0, 0, 0, 0.15);\n",
              "      filter: drop-shadow(0px 1px 2px rgba(0, 0, 0, 0.3));\n",
              "      fill: #FFFFFF;\n",
              "    }\n",
              "  </style>\n",
              "\n",
              "      <script>\n",
              "        const buttonEl =\n",
              "          document.querySelector('#df-264e0fd6-5caf-42a7-b885-ea9370aa8851 button.colab-df-convert');\n",
              "        buttonEl.style.display =\n",
              "          google.colab.kernel.accessAllowed ? 'block' : 'none';\n",
              "\n",
              "        async function convertToInteractive(key) {\n",
              "          const element = document.querySelector('#df-264e0fd6-5caf-42a7-b885-ea9370aa8851');\n",
              "          const dataTable =\n",
              "            await google.colab.kernel.invokeFunction('convertToInteractive',\n",
              "                                                     [key], {});\n",
              "          if (!dataTable) return;\n",
              "\n",
              "          const docLinkHtml = 'Like what you see? Visit the ' +\n",
              "            '<a target=\"_blank\" href=https://colab.research.google.com/notebooks/data_table.ipynb>data table notebook</a>'\n",
              "            + ' to learn more about interactive tables.';\n",
              "          element.innerHTML = '';\n",
              "          dataTable['output_type'] = 'display_data';\n",
              "          await google.colab.output.renderOutput(dataTable, element);\n",
              "          const docLink = document.createElement('div');\n",
              "          docLink.innerHTML = docLinkHtml;\n",
              "          element.appendChild(docLink);\n",
              "        }\n",
              "      </script>\n",
              "    </div>\n",
              "  </div>\n",
              "  "
            ]
          },
          "metadata": {},
          "execution_count": 24
        }
      ]
    },
    {
      "cell_type": "code",
      "source": [
        "df1.drop(columns='Unnamed: 0', inplace=True)"
      ],
      "metadata": {
        "id": "DoxrlrzhZ-O1"
      },
      "execution_count": 25,
      "outputs": []
    },
    {
      "cell_type": "code",
      "source": [
        "Array1=df1.to_numpy()\n",
        "print(Array1)"
      ],
      "metadata": {
        "colab": {
          "base_uri": "https://localhost:8080/"
        },
        "id": "8yhNV3V1dEBp",
        "outputId": "3a04c836-98ea-4627-c3fe-7dd860f8eab8"
      },
      "execution_count": 26,
      "outputs": [
        {
          "output_type": "stream",
          "name": "stdout",
          "text": [
            "[[104.1853528   28.7620589 ]\n",
            " [105.4612635   30.46683298]\n",
            " [105.4612635   30.19359657]\n",
            " [113.4612635   30.63211391]\n",
            " [104.4612635   29.88914864]\n",
            " [113.1853528   29.59176832]\n",
            " [105.4612635   30.30847957]\n",
            " [102.5985128   15.84775807]\n",
            " [102.5985128   16.35948352]\n",
            " [115.6452041   30.92015417]\n",
            " [111.1853528   29.36334142]\n",
            " [117.5985128   15.75353468]\n",
            " [122.1050553   32.81359241]\n",
            " [111.1853528   29.3784363 ]\n",
            " [108.1853528   29.34727902]\n",
            " [111.1853528   29.60452658]\n",
            " [114.3692933   29.5357836 ]\n",
            " [117.5985128   16.19412154]\n",
            " [114.3692933   29.92939368]\n",
            " [118.4729364   33.51697417]\n",
            " [119.1050553   32.32464971]\n",
            " [110.8408174   34.90821127]\n",
            " [120.2889958   32.6758277 ]\n",
            " [113.8291446   31.83712236]\n",
            " [119.1853528   28.78172789]\n",
            " [114.5985128   16.04317492]\n",
            " [120.7605199   38.06282335]\n",
            " [119.1050553   32.83506939]\n",
            " [ 99.56490661  34.4832075 ]\n",
            " [121.8408174   35.54935984]\n",
            " [113.4846092   37.04235003]\n",
            " [112.2889958   33.23436141]\n",
            " [119.9211148   31.38004084]\n",
            " [121.3926389   37.57328965]\n",
            " [111.2889958   32.701644  ]\n",
            " [115.0130851   31.9112234 ]\n",
            " [114.0933825   28.75400008]\n",
            " [116.909442    27.87991549]\n",
            " [116.909442    28.63050247]\n",
            " [128.4612635   30.11543403]\n",
            " [116.3926389   37.39252442]\n",
            " [115.7488471   35.02717556]\n",
            " [117.4612635   30.52742698]\n",
            " [114.0933825   28.34397592]\n",
            " [114.3809661   33.07863163]\n",
            " [117.1050553   32.62191589]\n",
            " [118.2086984   36.49861738]\n",
            " [116.4729364   33.91005598]\n",
            " [127.909442    28.07059654]\n",
            " [118.2889958   33.45847152]\n",
            " [118.2889958   33.21395395]\n",
            " [118.2889958   33.43671117]\n",
            " [120.4043117   40.39816357]\n",
            " [143.3926389   37.62069475]\n",
            " [135.3926389   37.25439197]\n",
            " [126.4043117   40.58906845]\n",
            " [110.4612635   30.14754329]\n",
            " [118.2889958   32.73451818]\n",
            " [112.6452041   30.61528334]\n",
            " [115.5765794   37.66287367]\n",
            " [130.2086984   36.88815313]\n",
            " [117.6685497   37.86041143]\n",
            " [126.0481035   43.3909885 ]\n",
            " [125.3123415   40.72283115]\n",
            " [128.128401    40.15948186]\n",
            " [126.5985128   15.71285853]\n",
            " [132.4846092   37.97995604]\n",
            " [133.6802225   41.57397476]\n",
            " [133.3123415   40.47204238]\n",
            " [158.3006687   37.14173328]\n",
            " [164.5985128   15.82306042]\n",
            " [133.4159845   44.01313857]\n",
            " [133.1400738   43.35312292]\n",
            " [124.7152409   52.99775236]\n",
            " [121.864163    42.61869847]\n",
            " [132.864163    42.77821864]\n",
            " [169.5985128   16.13294744]\n",
            " [150.5765794   37.92311321]\n",
            " [151.5985128   15.76962542]\n",
            " [167.9444604   39.42309899]\n",
            " [139.8408174   34.94861469]]\n"
          ]
        }
      ]
    },
    {
      "cell_type": "code",
      "source": [
        "sp_arr1=df1.iloc[:,0]\n",
        "sp_arr1"
      ],
      "metadata": {
        "colab": {
          "base_uri": "https://localhost:8080/"
        },
        "id": "ZiQ9eYendD9H",
        "outputId": "c288d6de-683d-4bfc-c774-6a712b262e28"
      },
      "execution_count": 27,
      "outputs": [
        {
          "output_type": "execute_result",
          "data": {
            "text/plain": [
              "0     104.185353\n",
              "1     105.461264\n",
              "2     105.461264\n",
              "3     113.461264\n",
              "4     104.461264\n",
              "         ...    \n",
              "76    169.598513\n",
              "77    150.576579\n",
              "78    151.598513\n",
              "79    167.944460\n",
              "80    139.840817\n",
              "Name: SP, Length: 81, dtype: float64"
            ]
          },
          "metadata": {},
          "execution_count": 27
        }
      ]
    },
    {
      "cell_type": "code",
      "source": [
        "scipy.stats.skew(sp_arr1, axis=0, bias=True)"
      ],
      "metadata": {
        "colab": {
          "base_uri": "https://localhost:8080/"
        },
        "id": "-heGC450dfS9",
        "outputId": "bbdf0cd2-e22e-47aa-f0b0-3374f3907ffe"
      },
      "execution_count": 28,
      "outputs": [
        {
          "output_type": "execute_result",
          "data": {
            "text/plain": [
              "1.5814536794423764"
            ]
          },
          "metadata": {},
          "execution_count": 28
        }
      ]
    },
    {
      "cell_type": "code",
      "source": [
        "scipy.stats.kurtosis(sp_arr1, axis=0, fisher=True, bias=True)"
      ],
      "metadata": {
        "colab": {
          "base_uri": "https://localhost:8080/"
        },
        "id": "oOnnUEcfdfPe",
        "outputId": "98c8b783-069f-4b81-be8c-2e245690cf09"
      },
      "execution_count": 29,
      "outputs": [
        {
          "output_type": "execute_result",
          "data": {
            "text/plain": [
              "2.7235214865269244"
            ]
          },
          "metadata": {},
          "execution_count": 29
        }
      ]
    },
    {
      "cell_type": "code",
      "source": [
        "wt_arr=df1.iloc[:,1]\n",
        "wt_arr"
      ],
      "metadata": {
        "colab": {
          "base_uri": "https://localhost:8080/"
        },
        "id": "JsDBFZEJdfMZ",
        "outputId": "fdd7bf3a-3a1a-4037-e14c-494a165399c7"
      },
      "execution_count": 30,
      "outputs": [
        {
          "output_type": "execute_result",
          "data": {
            "text/plain": [
              "0     28.762059\n",
              "1     30.466833\n",
              "2     30.193597\n",
              "3     30.632114\n",
              "4     29.889149\n",
              "        ...    \n",
              "76    16.132947\n",
              "77    37.923113\n",
              "78    15.769625\n",
              "79    39.423099\n",
              "80    34.948615\n",
              "Name: WT, Length: 81, dtype: float64"
            ]
          },
          "metadata": {},
          "execution_count": 30
        }
      ]
    },
    {
      "cell_type": "code",
      "source": [
        "scipy.stats.skew(wt_arr, axis=0, bias=True)"
      ],
      "metadata": {
        "colab": {
          "base_uri": "https://localhost:8080/"
        },
        "id": "veNRJpeedfI-",
        "outputId": "15583a40-bdf0-4afe-c35c-fc8a595b0cab"
      },
      "execution_count": 31,
      "outputs": [
        {
          "output_type": "execute_result",
          "data": {
            "text/plain": [
              "-0.6033099322115126"
            ]
          },
          "metadata": {},
          "execution_count": 31
        }
      ]
    },
    {
      "cell_type": "code",
      "source": [
        "scipy.stats.kurtosis(wt_arr, axis=0, fisher=True, bias=True)"
      ],
      "metadata": {
        "colab": {
          "base_uri": "https://localhost:8080/"
        },
        "id": "SCKW22P2dfEZ",
        "outputId": "84bd36e8-6e8d-42ca-95c6-e88a42ff41c1"
      },
      "execution_count": 32,
      "outputs": [
        {
          "output_type": "execute_result",
          "data": {
            "text/plain": [
              "0.8194658792266849"
            ]
          },
          "metadata": {},
          "execution_count": 32
        }
      ]
    }
  ]
}